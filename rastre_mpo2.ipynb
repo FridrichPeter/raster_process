{
 "cells": [
  {
   "cell_type": "code",
   "execution_count": 1,
   "metadata": {},
   "outputs": [],
   "source": [
    "import os\n",
    "\n",
    "# Set up input and output paths\n",
    "input_dir1 = r\"Q:\\@STENGL\\SVP\\MAPY\\-- PROJEKT - MPO-MPR --\\rastre\\UST_HLBKY\"\n",
    "input_dir2 = r\"Q:\\@STENGL\\SVP\\MAPY\\-- PROJEKT - MPO-MPR --\\rastre\\UST_RYCHLOSTI\"\n",
    "output_gdb = r\"D:\\RASTRE\\RASTRE_TEMP.gdb\"\n",
    "# Set the input and output paths for CO\n",
    "input_path = r\"D:\\RASTRE\\RASTRE_TEMP.gdb\"\n",
    "output_path = r\"D:\\RASTRE\\RASTRE_TEMP.gdb\"\n",
    "arcpy.env.overwriteOutput = True\n",
    "arcpy.env.parallelProcessingFactor = \"100%\""
   ]
  },
  {
   "cell_type": "code",
   "execution_count": 2,
   "metadata": {},
   "outputs": [],
   "source": [
    "# Set the subfolder names \n",
    "subfolders = [\"HN_02a_HDM\"]"
   ]
  },
  {
   "cell_type": "code",
   "execution_count": 3,
   "metadata": {
    "scrolled": true
   },
   "outputs": [
    {
     "name": "stdout",
     "output_type": "stream",
     "text": [
      "Raster HN_02a_HDM_IP_Q10 done.\n",
      "Raster HN_02a_HDM_IP_Q100 done.\n",
      "Raster HN_02a_HDM_IP_Q1000_r done.\n"
     ]
    }
   ],
   "source": [
    "# VÝPOČET INTEZITY POVODNE - IP\n",
    "for folder in subfolders:\n",
    "    # Set the input folder paths\n",
    "    input_path1 = os.path.join(input_dir1, folder)\n",
    "    input_path2 = os.path.join(input_dir2, folder)\n",
    "    \n",
    "    # Identify the input rasters to use for the calculation q10,q100\n",
    "    q10_raster1 = os.path.join(input_path1, f\"{folder}_hlbka_q0010.tif\") #0010\n",
    "    q10_raster2 = os.path.join(input_path2, f\"{folder}_rychlost_q0010.tif\") #0010\n",
    "    q100_raster1 = os.path.join(input_path1, f\"{folder}_hlbka_q0100.tif\") #0100\n",
    "    q100_raster2 = os.path.join(input_path2, f\"{folder}_rychlost_q0100.tif\") #0100\n",
    "    \n",
    "    #q1000\n",
    "    q1000_raster3 = os.path.join(input_path1, f\"{folder}_hlbka_q1000.tif\")\n",
    "    \n",
    "    # Create raster objects q10/100\n",
    "    q10_raster1_obj = arcpy.Raster(q10_raster1)\n",
    "    q10_raster2_obj = arcpy.Raster(q10_raster2)\n",
    "    q100_raster1_obj = arcpy.Raster(q100_raster1)\n",
    "    q100_raster2_obj = arcpy.Raster(q100_raster2)\n",
    "    \n",
    "    #q1000\n",
    "    q100_raster3_obj = arcpy.Raster(q1000_raster3)\n",
    "    \n",
    "    # Calculation variabels from path \n",
    "    output_q10 = os.path.join(output_gdb, f\"{folder}_IP_q10\")\n",
    "    output_q100 = os.path.join(output_gdb, f\"{folder}_IP_q100\")\n",
    "    output_q1000 = os.path.join(output_gdb, f\"{folder}_IP_q1000_r\") \n",
    "    \n",
    "    # Perform the raster calculation for q10\n",
    "    q10_cond = arcpy.sa.Con(q10_raster1_obj > 0, arcpy.sa.Con(q10_raster2_obj <= 1, q10_raster1_obj, q10_raster1_obj * q10_raster2_obj))\n",
    "    q10_cond.save(output_q10)\n",
    "    print(f\"Raster {folder}_IP_Q10 done.\")\n",
    "    # Perform the raster calculation for q100\n",
    "    q100_cond = arcpy.sa.Con(q100_raster1_obj > 0, arcpy.sa.Con(q100_raster2_obj <= 1, q100_raster1_obj, q100_raster1_obj * q100_raster2_obj))\n",
    "    q100_cond.save(output_q100)\n",
    "    print(f\"Raster {folder}_IP_Q100 done.\")\n",
    "    # Perform the raster calculation for q1000\n",
    "    q1000_cond = arcpy.sa.Con(q100_raster3_obj > 0, 1)\n",
    "    q1000_cond.save(output_q1000)\n",
    "    print(f\"Raster {folder}_IP_Q1000_r done.\")"
   ]
  },
  {
   "cell_type": "code",
   "execution_count": 4,
   "metadata": {},
   "outputs": [],
   "source": [
    "# VÝPOČET INTEZITY POVODNE - IP_Q_r\n",
    "# Set the input paths for the new calculation\n",
    "ip_q10_r = arcpy.Raster(os.path.join(output_gdb, f\"{folder}_IP_q10\"))\n",
    "ip_q100_r = arcpy.Raster(os.path.join(output_gdb, f\"{folder}_IP_q100\"))"
   ]
  },
  {
   "cell_type": "code",
   "execution_count": 5,
   "metadata": {},
   "outputs": [
    {
     "name": "stdout",
     "output_type": "stream",
     "text": [
      "Raster HN_02a_HDM_IP_Q10_r done.\n",
      "Raster HN_02a_HDM_IP_Q100_r done.\n"
     ]
    }
   ],
   "source": [
    "# Perform the raster calculation for the new output on q10_r\n",
    "output_q10_r = (0.3 + 1.35 * ip_q10_r) * 0.1\n",
    "output_q10_r.save(os.path.join(output_gdb, f\"{folder}_q10_r\"))\n",
    "print(f\"Raster {folder}_IP_Q10_r done.\")\n",
    "# Perform the raster calculation for the new output on q100_r\n",
    "output_q100_r = (0.3 + 1.35 * ip_q100_r) * 0.01\n",
    "print(f\"Raster {folder}_IP_Q100_r done.\")\n",
    "output_q100_r.save(os.path.join(output_gdb, f\"{folder}_q100_r\"))"
   ]
  },
  {
   "cell_type": "code",
   "execution_count": 6,
   "metadata": {},
   "outputs": [],
   "source": [
    "# Apply symbology for Q10\n",
    "arcpy.management.ApplySymbologyFromLayer(\n",
    "    in_layer=f\"{input_path}\\\\HN_02a_HDM_q10_r\",\n",
    "    in_symbology_layer=r\"TEMP\\\\BG_18_IP_q10_r\",\n",
    "    symbology_fields=None,\n",
    "    update_symbology=\"MAINTAIN\"\n",
    ")\n",
    "# Apply symbology for Q100\n",
    "arcpy.management.ApplySymbologyFromLayer(\n",
    "    in_layer=f\"{input_path}\\\\HN_02a_HDM_q100_r\",\n",
    "    in_symbology_layer=r\"TEMP\\\\BG_18_IP_q100_r\",\n",
    "    symbology_fields=None,\n",
    "    update_symbology=\"MAINTAIN\"\n",
    ")\n",
    "\n",
    "# Reclassify Q10\n",
    "out_raster_q10 = f\"{output_path}\\\\Reclass_HN_02a_Q10\"\n",
    "arcpy.sa.Reclassify(\n",
    "    in_raster=f\"{input_path}\\\\HN_02a_HDM_q10_r\",\n",
    "    reclass_field=\"VALUE\",\n",
    "    remap=\"0,030002 0,099000 3;0,099000 10 4\",\n",
    "    missing_values=\"DATA\"\n",
    ").save(out_raster_q10)\n",
    "# Reclassify Q100\n",
    "out_raster_q100 = f\"{output_path}\\\\Reclass_HN_02a_Q100\"\n",
    "arcpy.sa.Reclassify(\n",
    "    in_raster=f\"{input_path}\\\\HN_02a_HDM_q100_r\",\n",
    "    reclass_field=\"VALUE\",\n",
    "    remap=\"0,003000 0,010000 2;0,010000 0,029900 3;0,029900 10 4\",\n",
    "    missing_values=\"DATA\"\n",
    ").save(out_raster_q100)\n",
    "\n",
    "# Reclassify Q10\n",
    "out_raster_q10 = f\"{output_path}\\\\Reclass_HN_02a_Q10\"\n",
    "arcpy.sa.Reclassify(\n",
    "    in_raster=f\"{input_path}\\\\HN_02a_HDM_q10_r\",\n",
    "    reclass_field=\"VALUE\",\n",
    "    remap=\"0,030002 0,099000 3;0,099000 10 4\",\n",
    "    missing_values=\"DATA\"\n",
    ").save(out_raster_q10)\n",
    "# Reclassify Q100\n",
    "out_raster_q100 = f\"{output_path}\\\\Reclass_HN_02a_Q100\"\n",
    "arcpy.sa.Reclassify(\n",
    "    in_raster=f\"{input_path}\\\\HN_02a_HDM_q100_r\",\n",
    "    reclass_field=\"VALUE\",\n",
    "    remap=\"0,003000 0,010000 2;0,010000 0,029900 3;0,029900 10 4\",\n",
    "    missing_values=\"DATA\"\n",
    ").save(out_raster_q100)\n",
    "\n",
    "with arcpy.EnvManager(extent=\"MAXOF\"):\n",
    "    # Define the input rasters and their corresponding names\n",
    "    rasters = [out_raster_q10, out_raster_q100, f\"{input_path}\\\\HN_02a_HDM_IP_q1000_r\"]\n",
    "    input_names = [\"out_raster_q10\", \"out_raster_q100\", \"HN_02a_HDM_IP_q1000_r\"]\n",
    "\n",
    "    # Use the input rasters and names in the RasterCalculator expression\n",
    "    expression = 'Con(IsNull(out_raster_q10), Con(IsNull(out_raster_q100), HN_02a_HDM_IP_q1000_r, out_raster_q100), out_raster_q10)'\n",
    "\n",
    "    output_raster = arcpy.sa.RasterCalculator(\n",
    "        expression=expression,\n",
    "        rasters=rasters,\n",
    "        input_names=input_names\n",
    "    )\n",
    "\n",
    "output_raster.save(f\"{output_path}\\\\HN_02a_CO\")"
   ]
  }
 ],
 "metadata": {
  "kernelspec": {
   "display_name": "ArcGISPro",
   "language": "Python",
   "name": "python3"
  },
  "language_info": {
   "file_extension": ".py",
   "name": "python",
   "version": "3"
  }
 },
 "nbformat": 4,
 "nbformat_minor": 2
}
